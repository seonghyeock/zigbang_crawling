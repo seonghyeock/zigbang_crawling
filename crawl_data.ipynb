{
 "cells": [
  {
   "cell_type": "code",
   "execution_count": 2,
   "metadata": {},
   "outputs": [],
   "source": [
    "import requests as rq\n",
    "import json\n",
    "import pandas as pd\n",
    "from tqdm import tqdm\n",
    "import time\n",
    "import pickle\n",
    "import numpy as np\n",
    "from datetime import datetime"
   ]
  },
  {
   "cell_type": "markdown",
   "metadata": {},
   "source": [
    "## Get Data"
   ]
  },
  {
   "cell_type": "markdown",
   "metadata": {},
   "source": [
    "### Get Room List From Subway"
   ]
  },
  {
   "cell_type": "code",
   "execution_count": 3,
   "metadata": {},
   "outputs": [],
   "source": [
    "def get(url):\n",
    "    res = rq.get(url)\n",
    "    if res.status_code == 200:\n",
    "        return json.loads(res.text)\n",
    "    else:\n",
    "        print(url, res.status_code)\n",
    "        return None"
   ]
  },
  {
   "cell_type": "code",
   "execution_count": 4,
   "metadata": {},
   "outputs": [],
   "source": [
    "def get_room_ids(subway_info):\n",
    "    subway_id = subway_info['id']\n",
    "    subway_name = subway_info['name']\n",
    "    room_ids = []\n",
    "    visited = []\n",
    "    room_list_json = get(f\"https://apis.zigbang.com/v3/items/ad/{subway_id}\")\n",
    "    for i in room_list_json['list_items']:\n",
    "        if i.get('simple_item') and i['simple_item']['item_id'] not in visited:\n",
    "            data = {}\n",
    "            data['item_id'] = i['simple_item']['item_id']\n",
    "            data['section_type'] = i['section_type']\n",
    "            data['name'] = subway_name\n",
    "            room_ids.append(data)\n",
    "            visited.append(data['item_id'])\n",
    "    return room_ids"
   ]
  },
  {
   "cell_type": "code",
   "execution_count": 5,
   "metadata": {},
   "outputs": [],
   "source": [
    "today = datetime.now().strftime('%y%m%d')"
   ]
  },
  {
   "cell_type": "code",
   "execution_count": 12,
   "metadata": {},
   "outputs": [
    {
     "data": {
      "text/plain": [
       "5"
      ]
     },
     "execution_count": 12,
     "metadata": {},
     "output_type": "execute_result"
    }
   ],
   "source": [
    "url_subway_all = 'https://apis.zigbang.com/property/biglab/subway/all'\n",
    "subway_ids = get(url_subway_all)\n",
    "# subway_seoul_ids = [x for x in subway_ids if x['local1'] == '서울특별시']\n",
    "wish_ids = [x for x in subway_ids if x['name'] == '오이도역' or x['name'] == '정왕역' or x['name'] == '신길온천역' or x['name'] == '안산역' or x['name'] == '달월역' or x['name'] == '월곶역' or x['name'] == '소래포구']\n",
    "# len(subway_seoul_ids)\n",
    "len(wish_ids)"
   ]
  },
  {
   "cell_type": "code",
   "execution_count": 13,
   "metadata": {},
   "outputs": [
    {
     "name": "stdout",
     "output_type": "stream",
     "text": [
      "{'id': 243, 'name': '안산역', 'description': '4호선,수인분당선', 'subway_area': '수도권', 'local1': '경기도', 'lat': 37.3270301818848, 'lng': 126.789558410645, 'lines': [{'short_name': '4', 'color': '#00A2D1'}, {'short_name': '수인분당', 'color': '#F7D056'}]}\n",
      "{'id': 245, 'name': '정왕역', 'description': '4호선,수인분당선', 'subway_area': '수도권', 'local1': '경기도', 'lat': 37.351816, 'lng': 126.742844, 'lines': [{'short_name': '4', 'color': '#00A2D1'}, {'short_name': '수인분당', 'color': '#F7D056'}]}\n",
      "{'id': 246, 'name': '오이도역', 'description': '4호선,수인분당선', 'subway_area': '수도권', 'local1': '경기도', 'lat': 37.3616256713867, 'lng': 126.738433837891, 'lines': [{'short_name': '4', 'color': '#00A2D1'}, {'short_name': '수인분당', 'color': '#F7D056'}]}\n",
      "{'id': 291, 'name': '월곶역', 'description': '수인분당선', 'subway_area': '수도권', 'local1': '경기도', 'lat': 37.3913612365723, 'lng': 126.742538452148, 'lines': [{'short_name': '수인분당', 'color': '#F7D056'}]}\n",
      "{'id': 1074, 'name': '달월역', 'description': '수인분당선', 'subway_area': '수도권', 'local1': '경기도', 'lat': 37.38005427239384, 'lng': 126.74541523890444, 'lines': [{'short_name': '수인분당', 'color': '#F7D056'}]}\n"
     ]
    }
   ],
   "source": [
    "room_ids = []\n",
    "for ssi in wish_ids:\n",
    "    # print(ssi['name'])\n",
    "    print(ssi) # test\n",
    "    data = get_room_ids(ssi)\n",
    "    room_ids.extend(data)\n",
    "    time.sleep(2)"
   ]
  },
  {
   "cell_type": "code",
   "execution_count": 15,
   "metadata": {},
   "outputs": [],
   "source": [
    "room_id_df = pd.DataFrame(room_ids)\n",
    "room_id_df.to_csv(f'data_subway/room_ids_{today}.csv', index=False)"
   ]
  },
  {
   "cell_type": "code",
   "execution_count": 16,
   "metadata": {},
   "outputs": [],
   "source": [
    "subway_info = []\n",
    "subway_line_info = []\n",
    "for ssi in wish_ids:\n",
    "    ssi_cop = ssi.copy()\n",
    "    lines = ssi_cop.pop('lines')\n",
    "    subway_info.append(ssi_cop)\n",
    "    for line in lines:\n",
    "        data = {}\n",
    "        data['name'] = ssi['name']\n",
    "        data['line'] = line['short_name']\n",
    "        subway_line_info.append(data)\n",
    "\n",
    "subway_info = pd.DataFrame(subway_info)\n",
    "subway_line_info = pd.DataFrame(subway_line_info)"
   ]
  },
  {
   "cell_type": "code",
   "execution_count": 17,
   "metadata": {},
   "outputs": [],
   "source": [
    "subway_info.to_csv(f'data_subway/subway_info_{today}.csv', index=False)\n",
    "subway_line_info.to_csv(f'data_subway/subway_line_info_{today}.csv', index=False)"
   ]
  },
  {
   "cell_type": "markdown",
   "metadata": {},
   "source": [
    "### Get Room info By Subway"
   ]
  },
  {
   "cell_type": "code",
   "execution_count": 18,
   "metadata": {},
   "outputs": [],
   "source": [
    "class Subway:\n",
    "    def __init__(self, subway_line_info):\n",
    "        self.subway_line_info = subway_line_info\n",
    "    \n",
    "    def get_subway_from_line(self, line):\n",
    "        if isinstance(line, int):\n",
    "            line = str(line)\n",
    "        subways = self.subway_line_info[self.subway_line_info['line'] == line]['name'].values\n",
    "        return subways\n",
    "    "
   ]
  },
  {
   "cell_type": "code",
   "execution_count": 19,
   "metadata": {},
   "outputs": [
    {
     "data": {
      "text/plain": [
       "2"
      ]
     },
     "execution_count": 19,
     "metadata": {},
     "output_type": "execute_result"
    }
   ],
   "source": [
    "len(subway_line_info['line'].unique())"
   ]
  },
  {
   "cell_type": "code",
   "execution_count": 20,
   "metadata": {},
   "outputs": [],
   "source": [
    "sw = Subway(subway_line_info)\n",
    "line_1 = sw.get_subway_from_line(1)\n",
    "room_1 = room_id_df[room_id_df['name'].isin(line_1)]"
   ]
  },
  {
   "cell_type": "markdown",
   "metadata": {},
   "source": [
    "### Get Room Info All"
   ]
  },
  {
   "cell_type": "code",
   "execution_count": 21,
   "metadata": {},
   "outputs": [],
   "source": [
    "room_id_df = pd.read_csv(f'data_subway/room_ids_{today}.csv')\n",
    "subway_info = pd.read_csv(f'data_subway/subway_info_{today}.csv')\n",
    "subway_line_info = pd.read_csv(f'data_subway/subway_line_info_{today}.csv')"
   ]
  },
  {
   "cell_type": "code",
   "execution_count": 27,
   "metadata": {},
   "outputs": [
    {
     "data": {
      "text/plain": [
       "635"
      ]
     },
     "execution_count": 27,
     "metadata": {},
     "output_type": "execute_result"
    }
   ],
   "source": [
    "ids = room_id_df['item_id'].unique()\n",
    "# len(ids)"
   ]
  },
  {
   "cell_type": "code",
   "execution_count": 23,
   "metadata": {},
   "outputs": [],
   "source": [
    "start = 736  # 현재 저장된 데이터 개수\n",
    "ids_ = ids[start:]"
   ]
  },
  {
   "cell_type": "code",
   "execution_count": 25,
   "metadata": {},
   "outputs": [
    {
     "name": "stderr",
     "output_type": "stream",
     "text": [
      "635it [06:48,  1.55it/s]\n"
     ]
    }
   ],
   "source": [
    "room_info_list = []\n",
    "for idx, room_id in tqdm(enumerate(ids)):\n",
    "    room_info_url = f\"https://apis.zigbang.com/v2/items/{room_id}\"\n",
    "    room_info = get(room_info_url)\n",
    "    room_info_list.append(room_info)\n",
    "    time.sleep(np.random.random()*0.5 + 0.2)\n",
    "    if idx % 500 == 499:\n",
    "        with open(f'data_room/room_info_{start+idx+1}_{today}.pkl', 'wb') as f:\n",
    "            pickle.dump(room_info_list[idx-499:idx+1], f)"
   ]
  },
  {
   "cell_type": "code",
   "execution_count": 26,
   "metadata": {},
   "outputs": [],
   "source": [
    "with open(f'data_room/room_info_{start+idx+1}_{today}.pkl', 'wb') as f:\n",
    "    pickle.dump(room_info_list[idx+1-(idx+1) % 500: idx+1], f)"
   ]
  },
  {
   "cell_type": "markdown",
   "metadata": {},
   "source": [
    "## Merge"
   ]
  },
  {
   "cell_type": "code",
   "execution_count": 28,
   "metadata": {},
   "outputs": [],
   "source": [
    "from glob import glob\n",
    "import re"
   ]
  },
  {
   "cell_type": "code",
   "execution_count": 30,
   "metadata": {},
   "outputs": [
    {
     "name": "stderr",
     "output_type": "stream",
     "text": [
      "100%|██████████| 2/2 [00:00<00:00, 52.64it/s]\n"
     ]
    }
   ],
   "source": [
    "target_date = '230911'\n",
    "data_filenames = glob('data_room/*')\n",
    "data_filenames = [x for x in data_filenames if target_date in x]\n",
    "data = []\n",
    "for fn in tqdm(data_filenames):\n",
    "    with open(fn, 'rb') as f:\n",
    "        data.extend(pickle.load(f)) "
   ]
  },
  {
   "cell_type": "code",
   "execution_count": 86,
   "metadata": {},
   "outputs": [],
   "source": [
    "def preprocess(df_raw):\n",
    "    room_info = df_raw[COLS]\n",
    "    # room_info = room_info.replace('서울특별시', '서울시')\n",
    "    # room_info = room_info[room_info['local1'] == '서울시'].reset_index(drop=True)\n",
    "    return room_info\n",
    "\n",
    "def unify_date_format(date):\n",
    "    date_converted = re.sub('[^0-9]', '', date)\n",
    "    return date_converted\n",
    "\n",
    "def get_year_from_date(date):\n",
    "    date = re.sub('[^0-9]', '', date)\n",
    "    if len(date) < 4:\n",
    "        return -1\n",
    "    head = int(date[:4])\n",
    "    if head > 2022:  # 1980.01.01을 80.01.01 이렇게 표현한 경우\n",
    "        return int('19' + date[:2])\n",
    "    elif head < 1900:  # 2002.01.01을 02.01.01 이렇게 표현한 경우\n",
    "        return int('20' + date[:2])\n",
    "    else:\n",
    "        return int(date[:4])"
   ]
  },
  {
   "cell_type": "code",
   "execution_count": 87,
   "metadata": {},
   "outputs": [
    {
     "name": "stdout",
     "output_type": "stream",
     "text": [
      "      item_id   user_no sales_type  보증금액  월세금액  전용면적_m2  공급면적_m2 local1  \\\n",
      "0    37742494  14496807         월세   300  36.0    23.14    23.14    경기도   \n",
      "1    37894792  17884077         월세   300  30.0    16.53    16.53    경기도   \n",
      "2    37886936  15423928         전세  8500   NaN    39.67    39.67    경기도   \n",
      "3    37978949  14496807         월세   300  36.0    23.14    23.14    경기도   \n",
      "4    37802342  14496807         전세  8500   NaN    36.36    36.36    경기도   \n",
      "..        ...       ...        ...   ...   ...      ...      ...    ...   \n",
      "630  37906780   1328580         월세   500  50.0    29.88    47.75    경기도   \n",
      "631  37978707   3868336         월세  1000  65.0    37.36    81.62    경기도   \n",
      "632  37906774   1328580         월세   300  55.0    29.88    51.03    경기도   \n",
      "633  38003799   3868336         월세   500  50.0    25.79    56.88    경기도   \n",
      "634  38028091   3868336         월세   300  33.0    16.52    23.14    경기도   \n",
      "\n",
      "      local2 local3                        random_location floor  \\\n",
      "0    안산시 단원구    신길동   37.33270827413902,126.78866349090289     3   \n",
      "1    안산시 단원구    신길동  37.331566239598104,126.78739872436648     3   \n",
      "2    안산시 단원구    신길동   37.33289652360101,126.78812103730432     4   \n",
      "3    안산시 단원구    신길동   37.33140991432746,126.78766706906127     4   \n",
      "4    안산시 단원구    신길동    37.3323664562516,126.78874201003863     4   \n",
      "..       ...    ...                                    ...   ...   \n",
      "630      시흥시    월곶동  37.388379292512674,126.73460445022471  None   \n",
      "631      시흥시    월곶동   37.38986524182646,126.74029536874943  None   \n",
      "632      시흥시    월곶동   37.38837061580059,126.73398450976879  None   \n",
      "633      시흥시    월곶동  37.390379127411016,126.73966684850915  None   \n",
      "634      시흥시    월곶동  37.389902497607025,126.74324247280528  None   \n",
      "\n",
      "              updated_at  approve_date residence_type  \n",
      "0    2023-09-07 11:26:45    2009.11.16           단독주택  \n",
      "1    2023-08-29 17:00:09      20091029           단독주택  \n",
      "2    2023-09-02 16:35:03      20110629           단독주택  \n",
      "3    2023-09-07 11:26:20    2012.02.03           단독주택  \n",
      "4    2023-09-07 11:26:45    2011.06.29           단독주택  \n",
      "..                   ...           ...            ...  \n",
      "630  2023-08-30 17:02:23      20070402           오피스텔  \n",
      "631  2023-09-05 17:08:16   2019년11월26일           오피스텔  \n",
      "632  2023-08-30 17:02:24      20070402           오피스텔  \n",
      "633  2023-09-07 15:45:28   2019년11월26일           오피스텔  \n",
      "634  2023-09-09 15:49:33  2013년 12월26일        도시형생활주택  \n",
      "\n",
      "[635 rows x 15 columns]\n"
     ]
    }
   ],
   "source": [
    "COLS = ['item_id', 'user_no','sales_type','보증금액','월세금액','전용면적_m2','공급면적_m2','local1', 'local2', 'local3',\n",
    "        'random_location', 'floor', 'updated_at','approve_date', 'residence_type']\n",
    "\n",
    "df_raw = pd.DataFrame([x['item'] for x in data])\n",
    "\n",
    "room_info = preprocess(df_raw)\n",
    "# print(room_info)"
   ]
  },
  {
   "cell_type": "code",
   "execution_count": 90,
   "metadata": {},
   "outputs": [
    {
     "name": "stderr",
     "output_type": "stream",
     "text": [
      "C:\\Users\\chosh\\AppData\\Local\\Temp\\ipykernel_111668\\2196643461.py:1: SettingWithCopyWarning: \n",
      "A value is trying to be set on a copy of a slice from a DataFrame.\n",
      "Try using .loc[row_indexer,col_indexer] = value instead\n",
      "\n",
      "See the caveats in the documentation: https://pandas.pydata.org/pandas-docs/stable/user_guide/indexing.html#returning-a-view-versus-a-copy\n",
      "  room_info['approve_year'] = room_info.apply(lambda x:get_year_from_date(x['approve_date']), axis=1)\n",
      "C:\\Users\\chosh\\AppData\\Local\\Temp\\ipykernel_111668\\2196643461.py:4: SettingWithCopyWarning: \n",
      "A value is trying to be set on a copy of a slice from a DataFrame.\n",
      "Try using .loc[row_indexer,col_indexer] = value instead\n",
      "\n",
      "See the caveats in the documentation: https://pandas.pydata.org/pandas-docs/stable/user_guide/indexing.html#returning-a-view-versus-a-copy\n",
      "  room_info['random_lat'] = room_info.apply(lambda x:x['random_location'].split(',')[0], axis=1)\n",
      "C:\\Users\\chosh\\AppData\\Local\\Temp\\ipykernel_111668\\2196643461.py:5: SettingWithCopyWarning: \n",
      "A value is trying to be set on a copy of a slice from a DataFrame.\n",
      "Try using .loc[row_indexer,col_indexer] = value instead\n",
      "\n",
      "See the caveats in the documentation: https://pandas.pydata.org/pandas-docs/stable/user_guide/indexing.html#returning-a-view-versus-a-copy\n",
      "  room_info['random_long'] = room_info.apply(lambda x:x['random_location'].split(',')[1], axis=1)\n",
      "C:\\Users\\chosh\\AppData\\Local\\Temp\\ipykernel_111668\\2196643461.py:6: SettingWithCopyWarning: \n",
      "A value is trying to be set on a copy of a slice from a DataFrame.\n",
      "Try using .loc[row_indexer,col_indexer] = value instead\n",
      "\n",
      "See the caveats in the documentation: https://pandas.pydata.org/pandas-docs/stable/user_guide/indexing.html#returning-a-view-versus-a-copy\n",
      "  room_info['is_underground'] = 0\n"
     ]
    }
   ],
   "source": [
    "room_info['approve_year'] = room_info.apply(lambda x:get_year_from_date(x['approve_date']), axis=1)\n",
    "room_info.loc[room_info['approve_year'] == -1, 'approve_year'] = \\\n",
    "    int(room_info[room_info['approve_year'] != -1]['approve_year'].mean())\n",
    "room_info['random_lat'] = room_info.apply(lambda x:x['random_location'].split(',')[0], axis=1)\n",
    "room_info['random_long'] = room_info.apply(lambda x:x['random_location'].split(',')[1], axis=1)\n",
    "room_info['is_underground'] = 0\n",
    "room_info.loc[room_info['floor'] == '반지하', 'is_underground'] = 1\n",
    "room_info.to_csv(f'data_preprocessed/room_info_{target_date}.csv', index=False)"
   ]
  },
  {
   "cell_type": "code",
   "execution_count": 92,
   "metadata": {},
   "outputs": [],
   "source": [
    "room_info.to_excel('data_preprocessed/room_info_230911.xlsx', index=False)"
   ]
  },
  {
   "cell_type": "markdown",
   "metadata": {},
   "source": [
    "## Trash"
   ]
  },
  {
   "cell_type": "code",
   "execution_count": null,
   "metadata": {},
   "outputs": [],
   "source": [
    "req1 = rq.get(\"https://apis.zigbang.com/v3/items/ad/17?deposit_s=0&detail=false&domain=zigbang&floor=1~%7Crooftop%7Csemibase&radius=1&rent_s=0&sales_type=\")\n",
    "req2 = rq.get(\"https://apis.zigbang.com/v3/items/ad/17\")"
   ]
  },
  {
   "cell_type": "code",
   "execution_count": null,
   "metadata": {},
   "outputs": [],
   "source": [
    "import os\n",
    "path = 'data_room/'\n",
    "date = '221201'\n",
    "files = os.listdir(path)\n",
    "for fn in files:\n",
    "    if date in fn:\n",
    "        num = int(fn.split('_')[-2]) - start\n",
    "        new_fn = f'room_info_{num}_{date}.pkl'    \n",
    "        os.rename(path+fn, path+new_fn)"
   ]
  }
 ],
 "metadata": {
  "kernelspec": {
   "display_name": "Python 3",
   "language": "python",
   "name": "python3"
  },
  "language_info": {
   "codemirror_mode": {
    "name": "ipython",
    "version": 3
   },
   "file_extension": ".py",
   "mimetype": "text/x-python",
   "name": "python",
   "nbconvert_exporter": "python",
   "pygments_lexer": "ipython3",
   "version": "3.10.6"
  }
 },
 "nbformat": 4,
 "nbformat_minor": 4
}
